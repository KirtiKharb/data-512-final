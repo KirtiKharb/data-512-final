{
  "nbformat": 4,
  "nbformat_minor": 0,
  "metadata": {
    "colab": {
      "name": "data512-project-notebook.ipynb",
      "provenance": [],
      "collapsed_sections": []
    },
    "kernelspec": {
      "name": "python3",
      "display_name": "Python 3"
    }
  },
  "cells": [
    {
      "cell_type": "markdown",
      "metadata": {
        "id": "A3jk33N--8Dx"
      },
      "source": [
        "### Motivation and problem statement:\n",
        "\n"
      ]
    },
    {
      "cell_type": "markdown",
      "metadata": {
        "id": "42tAS4NUJicl"
      },
      "source": [
        "Mental health has become a serious concern in the 21st century. As people in technical jobs lead a sedentary lifestyle and have very few social engagements outside their workplace, It is important to study the factors in a workplace that affect an individual’s mental health. I want to know how employers can take measures to promote their employee’s mental health and spread awareness to address this growing concern. Aside from company policies with regard to health, leaves, insurance, etc., the ability to comfortably communicate health problems with colleagues and supervisors can have a serious impact on an employee’s mental health. "
      ]
    },
    {
      "cell_type": "markdown",
      "metadata": {
        "id": "o14IccgEJgkR"
      },
      "source": [
        "### Datasets:"
      ]
    },
    {
      "cell_type": "markdown",
      "metadata": {
        "id": "g06Ix0PnA0ik"
      },
      "source": [
        "For this project, I will use following dataset that is publicly available on [Kaggle](https://www.kaggle.com/).\n",
        "- [OSMI Mental Health In Tech Survey 2014](https://www.kaggle.com/osmi/mental-health-in-tech-survey) licensed under [CC BY-SA 4.0](https://creativecommons.org/licenses/by-sa/4.0/)\n",
        "The dataset is owned by [OSMI](https://osmihelp.org) and the contents of the website are also licensed under a [Creative Commons Attribution-ShareAlike 4.0 International License](https://creativecommons.org/licenses/by-sa/4.0/). It contains qualitative survey data conducted in the year 2019 about mental health in Tech and answers a range of questions about employers’ mental health policies along with candidates’ age, race, gender, and country of work and residence. \n",
        "\n",
        "This dataset contains all the necessary qualitative and quantitative information needed to analyze the problem at hand. Although the OSMI survey results are anonymized and do not contain PII, it still has sensitive demographic data(age, gender). The results of the analysis are purely to understand the factors affecting the mental health of people in tech and is not meant for disrespecting anyone.\n",
        "\n",
        "All the raw data collected for the analysis is stored in [data/raw](./data/raw) folder.\n"
      ]
    },
    {
      "cell_type": "markdown",
      "metadata": {
        "id": "C9mXV4FeJddz"
      },
      "source": [
        "### Unknowns and dependencies:"
      ]
    },
    {
      "cell_type": "markdown",
      "metadata": {
        "id": "maXwbxEyBoNI"
      },
      "source": [
        "The Mental Health in Tech Survey data is skewed in the sense that the majority of survey participants are from the US and very few from low-income countries. The survey has answers from 1259 participants about 26 questions. The small sample size and skewness will create problems in making any strong claims on whether the region/country affects the mental health of people working there. It does not appear that the survey was administered to a representative sample and so, we won't be able to generalize the findings to a broader population. Also, as it is qualitative data, the analysis will heavily depend on the range of options for each categorical question. There might not be sufficient objectivity and also some bias in data collection steps. The variable, treatment (Have you sought treatment for a mental health condition?) may not be representative of the fact that whether individual suffers from a mental illness. "
      ]
    },
    {
      "cell_type": "markdown",
      "metadata": {
        "id": "fTSIHIUkptwM"
      },
      "source": [
        "### Research Questions"
      ]
    },
    {
      "cell_type": "markdown",
      "metadata": {
        "id": "dKedSi3_Geux"
      },
      "source": [
        "Q1. How does the frequency of mental health illness vary by age, gender?<br>\n",
        "**Hypothesis**: Frequency of mental health illness is different for different demographic indicators.\n",
        " \n",
        "Q2. Does family history of mental health illness impact the frequency of mental health illnesses?<br>\n",
        "**Hypothesis**: The frequency of mental health illness is independent of family history of mental health.\n",
        " \n",
        "Q3. Does attitude towards mental health impacts an individual’s decision to seek treatment for mental health condition?<br>\n",
        "**Hypothesis**: The attitude towards mental health does not impact the individual’s decision to seek treatment for mental health condition.\n",
        " \n",
        "Q4. What are the strongest predictors of mental health illness due to workplace environment? <br>\n",
        "**Hypothesis**: A workplace that provides medical health benefits, awareness for care options to employees, safe environment to discuss the mental health issues with supervisor and peers contribute towards the better mental health of employees as opposed to a workplace that does not prioritize their employees’ health.\n"
      ]
    },
    {
      "cell_type": "markdown",
      "metadata": {
        "id": "iNK_8bAlJUgf"
      },
      "source": [
        "### Background/Related Work"
      ]
    },
    {
      "cell_type": "markdown",
      "metadata": {
        "id": "TmB668RGJVys"
      },
      "source": [
        "A related [paper](https://www.sas.com/content/dam/SAS/support/en/sas-global-forum-proceedings/2019/3966-2019.pdf) that measure the suicide tendencies in employees in tech industry based on the mental health illnesses and certain attitudes towars mental health in workplace suggests that suicides rates in indicviduals are direct linked to mental health condictions are vary considerably in different age groups, gender, region. \n",
        "The study also suggests that companies which provide remote work, benefits and awareness around mental health have positive impact on employees’ mental health and in turn decrease in suicidal tendencies. \n",
        "\n",
        "The articles [here](https://www.infoq.com/articles/mental-health-tech-workplace/) suggests that the major hindrance to mental wellness in a workplace is that mental illnesses are stigmatized and employees do not feel comfortable speaking up when they have a mental health issue due to fear to losing their promotion or job.\n",
        "\n",
        "The [OSMI](https://osmihelp.org/research) provides useful survey datasets from years 2014 \n",
        "conducted every year which asks candidates about the mental health illness attitudes in their workplace(benefits, care options, consequence of informing employer about physical or mental health issures, awareness in employees related to employers policies and programmes around mental health, ability to take leaves of absense, etc.) along with demography data(age, gender, country). OSMI also provides guidelines for promote mental wellness in the workplace to eecitives and HR professionals based on studies conducted on the survey results.\n",
        "\n",
        "Above research and resources are the basis for the research questions and hypothesis that I plan to answer in this analysis and it would be interesting to see what factors in the workplace contribute to improved mental health. "
      ]
    },
    {
      "cell_type": "markdown",
      "metadata": {
        "id": "BKIPFGxX37ic"
      },
      "source": [
        "### Methodology"
      ]
    },
    {
      "cell_type": "markdown",
      "metadata": {
        "id": "piN3PUsz4PMj"
      },
      "source": [
        "#### Data Gathering"
      ]
    },
    {
      "cell_type": "code",
      "metadata": {
        "id": "gEK4kj7zB3nj",
        "outputId": "6299ed69-bc0e-4a55-d480-3912f2558da3",
        "colab": {
          "base_uri": "https://localhost:8080/",
          "height": 309
        }
      },
      "source": [
        "# import libraries\n",
        "import pandas as pd\n",
        "import numpy as np\n",
        "\n",
        "# read data files\n",
        "mhit = pd.read_csv(\"survey.csv\")\n",
        "\n",
        "# quick look at mental health in tech data\n",
        "mhit.head(5)"
      ],
      "execution_count": null,
      "outputs": [
        {
          "output_type": "execute_result",
          "data": {
            "text/html": [
              "<div>\n",
              "<style scoped>\n",
              "    .dataframe tbody tr th:only-of-type {\n",
              "        vertical-align: middle;\n",
              "    }\n",
              "\n",
              "    .dataframe tbody tr th {\n",
              "        vertical-align: top;\n",
              "    }\n",
              "\n",
              "    .dataframe thead th {\n",
              "        text-align: right;\n",
              "    }\n",
              "</style>\n",
              "<table border=\"1\" class=\"dataframe\">\n",
              "  <thead>\n",
              "    <tr style=\"text-align: right;\">\n",
              "      <th></th>\n",
              "      <th>Timestamp</th>\n",
              "      <th>Age</th>\n",
              "      <th>Gender</th>\n",
              "      <th>Country</th>\n",
              "      <th>state</th>\n",
              "      <th>self_employed</th>\n",
              "      <th>family_history</th>\n",
              "      <th>treatment</th>\n",
              "      <th>work_interfere</th>\n",
              "      <th>no_employees</th>\n",
              "      <th>remote_work</th>\n",
              "      <th>tech_company</th>\n",
              "      <th>benefits</th>\n",
              "      <th>care_options</th>\n",
              "      <th>wellness_program</th>\n",
              "      <th>seek_help</th>\n",
              "      <th>anonymity</th>\n",
              "      <th>leave</th>\n",
              "      <th>mental_health_consequence</th>\n",
              "      <th>phys_health_consequence</th>\n",
              "      <th>coworkers</th>\n",
              "      <th>supervisor</th>\n",
              "      <th>mental_health_interview</th>\n",
              "      <th>phys_health_interview</th>\n",
              "      <th>mental_vs_physical</th>\n",
              "      <th>obs_consequence</th>\n",
              "      <th>comments</th>\n",
              "    </tr>\n",
              "  </thead>\n",
              "  <tbody>\n",
              "    <tr>\n",
              "      <th>0</th>\n",
              "      <td>2014-08-27 11:29:31</td>\n",
              "      <td>37</td>\n",
              "      <td>Female</td>\n",
              "      <td>United States</td>\n",
              "      <td>IL</td>\n",
              "      <td>NaN</td>\n",
              "      <td>No</td>\n",
              "      <td>Yes</td>\n",
              "      <td>Often</td>\n",
              "      <td>6-25</td>\n",
              "      <td>No</td>\n",
              "      <td>Yes</td>\n",
              "      <td>Yes</td>\n",
              "      <td>Not sure</td>\n",
              "      <td>No</td>\n",
              "      <td>Yes</td>\n",
              "      <td>Yes</td>\n",
              "      <td>Somewhat easy</td>\n",
              "      <td>No</td>\n",
              "      <td>No</td>\n",
              "      <td>Some of them</td>\n",
              "      <td>Yes</td>\n",
              "      <td>No</td>\n",
              "      <td>Maybe</td>\n",
              "      <td>Yes</td>\n",
              "      <td>No</td>\n",
              "      <td>NaN</td>\n",
              "    </tr>\n",
              "    <tr>\n",
              "      <th>1</th>\n",
              "      <td>2014-08-27 11:29:37</td>\n",
              "      <td>44</td>\n",
              "      <td>M</td>\n",
              "      <td>United States</td>\n",
              "      <td>IN</td>\n",
              "      <td>NaN</td>\n",
              "      <td>No</td>\n",
              "      <td>No</td>\n",
              "      <td>Rarely</td>\n",
              "      <td>More than 1000</td>\n",
              "      <td>No</td>\n",
              "      <td>No</td>\n",
              "      <td>Don't know</td>\n",
              "      <td>No</td>\n",
              "      <td>Don't know</td>\n",
              "      <td>Don't know</td>\n",
              "      <td>Don't know</td>\n",
              "      <td>Don't know</td>\n",
              "      <td>Maybe</td>\n",
              "      <td>No</td>\n",
              "      <td>No</td>\n",
              "      <td>No</td>\n",
              "      <td>No</td>\n",
              "      <td>No</td>\n",
              "      <td>Don't know</td>\n",
              "      <td>No</td>\n",
              "      <td>NaN</td>\n",
              "    </tr>\n",
              "    <tr>\n",
              "      <th>2</th>\n",
              "      <td>2014-08-27 11:29:44</td>\n",
              "      <td>32</td>\n",
              "      <td>Male</td>\n",
              "      <td>Canada</td>\n",
              "      <td>NaN</td>\n",
              "      <td>NaN</td>\n",
              "      <td>No</td>\n",
              "      <td>No</td>\n",
              "      <td>Rarely</td>\n",
              "      <td>6-25</td>\n",
              "      <td>No</td>\n",
              "      <td>Yes</td>\n",
              "      <td>No</td>\n",
              "      <td>No</td>\n",
              "      <td>No</td>\n",
              "      <td>No</td>\n",
              "      <td>Don't know</td>\n",
              "      <td>Somewhat difficult</td>\n",
              "      <td>No</td>\n",
              "      <td>No</td>\n",
              "      <td>Yes</td>\n",
              "      <td>Yes</td>\n",
              "      <td>Yes</td>\n",
              "      <td>Yes</td>\n",
              "      <td>No</td>\n",
              "      <td>No</td>\n",
              "      <td>NaN</td>\n",
              "    </tr>\n",
              "    <tr>\n",
              "      <th>3</th>\n",
              "      <td>2014-08-27 11:29:46</td>\n",
              "      <td>31</td>\n",
              "      <td>Male</td>\n",
              "      <td>United Kingdom</td>\n",
              "      <td>NaN</td>\n",
              "      <td>NaN</td>\n",
              "      <td>Yes</td>\n",
              "      <td>Yes</td>\n",
              "      <td>Often</td>\n",
              "      <td>26-100</td>\n",
              "      <td>No</td>\n",
              "      <td>Yes</td>\n",
              "      <td>No</td>\n",
              "      <td>Yes</td>\n",
              "      <td>No</td>\n",
              "      <td>No</td>\n",
              "      <td>No</td>\n",
              "      <td>Somewhat difficult</td>\n",
              "      <td>Yes</td>\n",
              "      <td>Yes</td>\n",
              "      <td>Some of them</td>\n",
              "      <td>No</td>\n",
              "      <td>Maybe</td>\n",
              "      <td>Maybe</td>\n",
              "      <td>No</td>\n",
              "      <td>Yes</td>\n",
              "      <td>NaN</td>\n",
              "    </tr>\n",
              "    <tr>\n",
              "      <th>4</th>\n",
              "      <td>2014-08-27 11:30:22</td>\n",
              "      <td>31</td>\n",
              "      <td>Male</td>\n",
              "      <td>United States</td>\n",
              "      <td>TX</td>\n",
              "      <td>NaN</td>\n",
              "      <td>No</td>\n",
              "      <td>No</td>\n",
              "      <td>Never</td>\n",
              "      <td>100-500</td>\n",
              "      <td>Yes</td>\n",
              "      <td>Yes</td>\n",
              "      <td>Yes</td>\n",
              "      <td>No</td>\n",
              "      <td>Don't know</td>\n",
              "      <td>Don't know</td>\n",
              "      <td>Don't know</td>\n",
              "      <td>Don't know</td>\n",
              "      <td>No</td>\n",
              "      <td>No</td>\n",
              "      <td>Some of them</td>\n",
              "      <td>Yes</td>\n",
              "      <td>Yes</td>\n",
              "      <td>Yes</td>\n",
              "      <td>Don't know</td>\n",
              "      <td>No</td>\n",
              "      <td>NaN</td>\n",
              "    </tr>\n",
              "  </tbody>\n",
              "</table>\n",
              "</div>"
            ],
            "text/plain": [
              "             Timestamp  Age  Gender  ... mental_vs_physical obs_consequence comments\n",
              "0  2014-08-27 11:29:31   37  Female  ...                Yes              No      NaN\n",
              "1  2014-08-27 11:29:37   44       M  ...         Don't know              No      NaN\n",
              "2  2014-08-27 11:29:44   32    Male  ...                 No              No      NaN\n",
              "3  2014-08-27 11:29:46   31    Male  ...                 No             Yes      NaN\n",
              "4  2014-08-27 11:30:22   31    Male  ...         Don't know              No      NaN\n",
              "\n",
              "[5 rows x 27 columns]"
            ]
          },
          "metadata": {
            "tags": []
          },
          "execution_count": 1
        }
      ]
    },
    {
      "cell_type": "markdown",
      "metadata": {
        "id": "rC21HgTFpwld"
      },
      "source": [
        "#### Data cleaning and preprocessing\n"
      ]
    },
    {
      "cell_type": "markdown",
      "metadata": {
        "id": "mks6Ii464Cbn"
      },
      "source": [
        "Treating missing values:\n",
        "\n",
        "- The data contains a lot of missing values in many columns. The default values of ‘NaN’ for string data type and default value of 0 for int data type will be used. \n",
        "- The column ‘Gender’ contains 49 distinct responses and will be changed to reflect just three gender types: male/female/trans(non-binary).\n",
        "- To deal with missing values in the column ‘Age’, the median age will be used as the survey is mostly filled by people working in tech industry, once can assume that majority age-group of the participants is a safe choice of missing age. Also some values of age are too high or too low to be real numbers. Such values will be replaced by median age.\n",
        "- For the columns with Yes/No inputs, the missing value will be replaced by ‘No/Don’t know’."
      ]
    },
    {
      "cell_type": "markdown",
      "metadata": {
        "id": "UvAm5zeP4EQq"
      },
      "source": [
        "Encoding categorical data:\n",
        "\n",
        "For each categorical data columns, we will apply label encoder to convert the inputs into classes. Further the age column needs to be normalised as it is an integer before applying any model to see the what are strongest predictors for an individual needing treatment."
      ]
    }
  ]
}